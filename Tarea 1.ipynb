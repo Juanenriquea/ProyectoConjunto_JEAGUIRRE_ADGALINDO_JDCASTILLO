{
 "cells": [
  {
   "cell_type": "markdown",
   "metadata": {},
   "source": [
    "## Tarea 1\n",
    "#### Juan Enrique Aguirre López\n",
    "#### Ariadna Desirée Galindo Marín\n",
    "#### Jesús Daniel Castillo Hernández"
   ]
  },
  {
   "cell_type": "markdown",
   "metadata": {},
   "source": [
    "Expectativas del curso de Juan Enrique:\n",
    "\n",
    "La verdad me interesó mucho el saber que las simulaciones pueden ser aplicadas a muchas cosas, como campañas de marketing, probar autos, aviones, etc. Aunque lo nuestro será centrarnos en las finanzas, se me hace muy padre que también aplique para otros ámbitos. Y lo que esperaría sería que sepamos hacer modelos para poder hacer simulaciones con esos modelos y aprender a cómo medir su imprecisión."
   ]
  },
  {
   "cell_type": "markdown",
   "metadata": {},
   "source": [
    "Expectativas del curso de Ariadna Desirée:"
   ]
  },
  {
   "cell_type": "markdown",
   "metadata": {},
   "source": [
    "Expectativas del curso de Jesús Daniel:"
   ]
  },
  {
   "cell_type": "markdown",
   "metadata": {},
   "source": [
    "Figura 1\n",
    "\n",
    "| i | x    | f(x)   |\n",
    "|---|------|--------|\n",
    "| 0 | -1   | 0.3678 |\n",
    "|<font color=red>1</font> | <font color=red>-0.5</font> | <font color=red>0.7788</font> |\n",
    "<font color=blue>2</font> | <font color=blue>0</font> | <font color=blue>1</font> |\n",
    "<font color=red>3</font> | <font color=red>0.5</font> | <font color=red>0.7788</font> |\n",
    "| 4 | 1    | 0.3678 |\n",
    "\n",
    "<p style='text-align: center;'> Cuadro 1: Tabla de valores de $f(x)$ </p>\n",
    "\n",
    "$$\\int_{-1}^{1} e^{-x^2} dx \\approx {0,5\\over 3}[f(-1) + f(1) + 4( \\color{Red}{f(-0,5) + f(0,5)} ) + 2\\color{blue}{f(0)} ] \\\\ \\approx {0,5\\over 3}[0,3678 + 0,3678 + 4( \\color{Red}{0,7788 + 0,7788} ) + 2\\cdot \\color{blue}{1} ] \\approx 1,4943 $$\n",
    "\n",
    "<p style='text-align: center;' > A modo de verificación, se calculará por software, el valor del área para n=100, un valor mucho más elevado al que se utilizó anteriormente. Si lo calculado previamente es correcto, se esperaría que sea próximo al valor presentado a continuación para ser una buena aproximación </p>\n",
    "\n",
    "\n",
    "$$\\int_{-1}^{1} e^{-x^2} dx \\approx 1.4936 $$"
   ]
  },
  {
   "cell_type": "markdown",
   "metadata": {},
   "source": [
    "Figura 2a"
   ]
  },
  {
   "cell_type": "markdown",
   "metadata": {},
   "source": [
    "Figura 2b"
   ]
  }
 ],
 "metadata": {
  "kernelspec": {
   "display_name": "Python 3",
   "language": "python",
   "name": "python3"
  },
  "language_info": {
   "codemirror_mode": {
    "name": "ipython",
    "version": 3
   },
   "file_extension": ".py",
   "mimetype": "text/x-python",
   "name": "python",
   "nbconvert_exporter": "python",
   "pygments_lexer": "ipython3",
   "version": "3.7.1"
  }
 },
 "nbformat": 4,
 "nbformat_minor": 2
}
