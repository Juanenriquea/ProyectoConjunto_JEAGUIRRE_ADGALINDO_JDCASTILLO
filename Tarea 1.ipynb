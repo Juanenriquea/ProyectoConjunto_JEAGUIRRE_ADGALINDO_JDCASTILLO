{
 "cells": [
  {
   "cell_type": "markdown",
   "metadata": {},
   "source": [
    "## Tarea 1\n",
    "#### Juan Enrique Aguirre López\n",
    "#### Ariadna Desirée Galindo Marín\n",
    "#### Jesús Daniel Castillo Hernández"
   ]
  },
  {
   "cell_type": "markdown",
   "metadata": {},
   "source": [
    "Expectativas del curso de Juan Enrique:\n",
    "\n"
   ]
  },
  {
   "cell_type": "markdown",
   "metadata": {},
   "source": [
    "**Expectativas del curso de Ariadna Desirée:**\n",
    "En este curso espero mejorar en términos de mi programación para poder ser más eficiente, así como aprender nuevas técnicas que me sirvan en mi carrera. Recuperar los conocimientos de materias pasadas y ponerlas en práctica. "
   ]
  },
  {
   "cell_type": "markdown",
   "metadata": {},
   "source": [
    "Expectativas del curso de Jesús Daniel:"
   ]
  },
  {
   "cell_type": "markdown",
   "metadata": {},
   "source": [
    "Figura 1"
   ]
  },
  {
   "cell_type": "markdown",
   "metadata": {},
   "source": [
    "**Figura 2a**\n",
    "\n",
    "|$i$|1|2|3|4|5|6|7|\n",
    "|-|-|-|-|-|-|-|-|\n",
    "|$$E_i(V)$$|12|10|24|12|-|-|-|\n",
    "|$$r_i(\\Omega)$$|0.1|0.5|0.2|0.5|-|-|-|\n",
    "|$$R_i(\\Omega)$$|25|40|16|20|9|4|20|\n",
    "\n",
    "\n",
    "<font color= lightblue > Kemma y Vorst (1990) </font> muestran que las opciones asiáticas con media geométrica continua se pueden valuar con el mismo enfoque de las opciones *plain vanilla*; solo deben cambiar los parámetros de volatilidad $\\sigma$ por $\\sigma_a$, y el costo de acarreo $b$ por $b_A$. \n",
    "\n",
    "De acuerdo con Kemma y Vorst, las fórmulas para valuar una opción de compra y una opción de venta son:\n",
    "$$c\\approx S_t e^{(b_A-r)(T-t)}\\Phi(d_1)-Ke^{-r(T-t)}\\Phi(d_2),$$\n",
    "$$p\\approx Ke^{-r(T-t)}\\Phi(-d_2)-,S_t e^{(b_A-r)(T-t)}\\Phi(-d_1)$$\n",
    "con $d_1$ y $d_2$ dados por:\n",
    "$$d_1=\\frac{ln(S_t/K)+(b_A+1/2\\sigma_a^2)(T-t)}{\\sigma\\sqrt{T-t}}$$\n",
    "$$d_2=d_1-\\sigma_a\\sqrt{T-t}$$\n",
    "La función $\\Phi(d)$ es la función de distribución acumulada $E\\sim N(0,1)$. La volatilidad ajustada es igual a:\n",
    "$$\\sigma_a=\\frac{\\sigma}{\\sqrt{3}},$$\n",
    "mientras que el costo de acarreo ajustado es:\n",
    "$$b_A=\\frac{1}{2}\\left(v-\\frac{\\sigma^2}{6}\\right).$$"
   ]
  },
  {
   "cell_type": "markdown",
   "metadata": {},
   "source": [
    "Figura 2b"
   ]
  }
 ],
 "metadata": {
  "kernelspec": {
   "display_name": "Python 3",
   "language": "python",
   "name": "python3"
  },
  "language_info": {
   "codemirror_mode": {
    "name": "ipython",
    "version": 3
   },
   "file_extension": ".py",
   "mimetype": "text/x-python",
   "name": "python",
   "nbconvert_exporter": "python",
   "pygments_lexer": "ipython3",
   "version": "3.7.3"
  }
 },
 "nbformat": 4,
 "nbformat_minor": 2
}
